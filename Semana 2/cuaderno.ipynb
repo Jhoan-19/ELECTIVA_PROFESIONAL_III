{
 "cells": [
  {
   "cell_type": "markdown",
   "id": "5c9ad237",
   "metadata": {},
   "source": [
    "# titulo 1"
   ]
  },
  {
   "cell_type": "code",
   "execution_count": 5,
   "id": "ae73c917",
   "metadata": {},
   "outputs": [],
   "source": [
    "def sumar_dos_numeros(a, b):\n",
    "    return a + b"
   ]
  },
  {
   "cell_type": "markdown",
   "id": "97c1af55",
   "metadata": {},
   "source": [
    "# una sola linea"
   ]
  },
  {
   "cell_type": "code",
   "execution_count": null,
   "id": "f843d1b1",
   "metadata": {},
   "outputs": [],
   "source": [
    "sumar_dos_numeros_2 = lambda a, b: a + b"
   ]
  }
 ],
 "metadata": {
  "kernelspec": {
   "display_name": "Python 3",
   "language": "python",
   "name": "python3"
  },
  "language_info": {
   "codemirror_mode": {
    "name": "ipython",
    "version": 3
   },
   "file_extension": ".py",
   "mimetype": "text/x-python",
   "name": "python",
   "nbconvert_exporter": "python",
   "pygments_lexer": "ipython3",
   "version": "3.10.11"
  }
 },
 "nbformat": 4,
 "nbformat_minor": 5
}

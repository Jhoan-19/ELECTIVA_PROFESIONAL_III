{
 "cells": [
  {
   "cell_type": "markdown",
   "id": "5660223b",
   "metadata": {},
   "source": [
    "hacer una funcion que sume dos numeros"
   ]
  },
  {
   "cell_type": "code",
   "execution_count": 1,
   "id": "d7516dc0",
   "metadata": {},
   "outputs": [],
   "source": [
    "def sumar_dos_numeros(a:int,b)->int:\n",
    "    return  a + b"
   ]
  },
  {
   "cell_type": "markdown",
   "id": "5be4291c",
   "metadata": {},
   "source": [
    "una sola linea"
   ]
  },
  {
   "cell_type": "code",
   "execution_count": 2,
   "id": "11000e22",
   "metadata": {},
   "outputs": [],
   "source": [
    "sumar_dos_numeros_2= lambda a,b: a+b"
   ]
  },
  {
   "cell_type": "code",
   "execution_count": 3,
   "id": "a004d510",
   "metadata": {},
   "outputs": [
    {
     "data": {
      "text/plain": [
       "5"
      ]
     },
     "execution_count": 3,
     "metadata": {},
     "output_type": "execute_result"
    }
   ],
   "source": [
    "sumar_dos_numeros(2,3)"
   ]
  },
  {
   "cell_type": "code",
   "execution_count": 4,
   "id": "50660ff2",
   "metadata": {},
   "outputs": [
    {
     "data": {
      "text/plain": [
       "5"
      ]
     },
     "execution_count": 4,
     "metadata": {},
     "output_type": "execute_result"
    }
   ],
   "source": [
    "sumar_dos_numeros_2(2,3)"
   ]
  }
 ],
 "metadata": {
  "kernelspec": {
   "display_name": "Python 3",
   "language": "python",
   "name": "python3"
  },
  "language_info": {
   "codemirror_mode": {
    "name": "ipython",
    "version": 3
   },
   "file_extension": ".py",
   "mimetype": "text/x-python",
   "name": "python",
   "nbconvert_exporter": "python",
   "pygments_lexer": "ipython3",
   "version": "3.10.11"
  }
 },
 "nbformat": 4,
 "nbformat_minor": 5
}
